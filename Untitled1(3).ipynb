{
 "cells": [
  {
   "cell_type": "code",
   "execution_count": 1,
   "metadata": {},
   "outputs": [
    {
     "name": "stdout",
     "output_type": "stream",
     "text": [
      "usage: /usr/lib/python3/dist-packages/ipykernel_launcher.py <input_file>\n"
     ]
    },
    {
     "ename": "SystemExit",
     "evalue": "",
     "output_type": "error",
     "traceback": [
      "An exception has occurred, use %tb to see the full traceback.\n",
      "\u001b[0;31mSystemExit\u001b[0m\n"
     ]
    },
    {
     "name": "stderr",
     "output_type": "stream",
     "text": [
      "/usr/lib/python3/dist-packages/IPython/core/interactiveshell.py:2890: UserWarning: To exit: use 'exit', 'quit', or Ctrl-D.\n",
      "  warn(\"To exit: use 'exit', 'quit', or Ctrl-D.\", stacklevel=1)\n"
     ]
    }
   ],
   "source": [
    "#!/usr/bin/python\n",
    "\n",
    "#commonly used libraries\n",
    "import sys\n",
    "import copy\n",
    "import random\n",
    "import string\n",
    "\n",
    "#standard usage/error message:\n",
    "if len(sys.argv) != 2:\n",
    "    print (\"usage: \"+sys.argv[0]+\" <input_file>\")\n",
    "    sys.exit()\n",
    "\n",
    "#definitions:\n",
    "IP_file = sys.argv[1]\n",
    "print (IP_file)\n",
    "IP_data = open(IP_file, 'r')\n",
    "print (IP_data)\n",
    "\n",
    "#read a .txt file into python:\n",
    "IP_list = []\n",
    "for row in IP_data.readlines():\n",
    "    IP_list.append(row)\n",
    "N=[]\n",
    "b=[]\n",
    "CA=[]\n",
    "CB=[]\n",
    "for i in range(len(IP_list)):\n",
    "    if 'N' in IP_list[i][12:14]:\n",
    "        N.append([IP_list[i][12:14],float(IP_list[i][30:38]), IP_list[i][38:46], IP_list[i][46:54]])\n",
    "    elif 'CA' in IP_list[i][12:17]:\n",
    "        CA.append([IP_list[i][12:17],float(IP_list[i][30:38]), IP_list[i][38:46], IP_list[i][46:54]])\n",
    "    elif 'CB' in IP_list[i][12:17]:\n",
    "        CB.append([IP_list[i][12:17],float(IP_list[i][30:38]), IP_list[i][38:46], IP_list[i][46:54]])\n",
    "\n",
    "for i in range(len(N)):\n",
    "    print (N[i],CA[i], CB[i])"
   ]
  },
  {
   "cell_type": "code",
   "execution_count": 2,
   "metadata": {},
   "outputs": [
    {
     "name": "stdout",
     "output_type": "stream",
     "text": [
      "0003.pdb\n",
      "<_io.TextIOWrapper name='0003.pdb' mode='r' encoding='UTF-8'>\n",
      "[' N', 7.932, '  -0.650', '  -4.180'] [' CA  ', 7.839, '  -1.936', '  -3.498'] [' CB  ', 6.425, '  -2.483', '  -3.511']\n",
      "[' N', 3.084, '  -4.926', '  -0.858'] [' CA  ', 8.981, '  -3.880', '  -6.558'] [' CB  ', 8.842, '  -3.450', '  -8.005']\n",
      "[' N', 8.335, '  -2.944', '  -5.646'] [' CA  ', 12.411, '  -2.314', '  -6.071'] [' CB  ', 12.7, '  -0.883', '  -5.661']\n",
      "[' N', 10.985, '  -2.546', '  -6.272'] [' CA  ', 12.346, '  -3.675', '  -2.523'] [' CB  ', 11.29, '  -3.364', '  -1.474']\n",
      "[' N', 12.044, '  -2.983', '  -3.771'] [' CA  ', 11.709, '  -7.105', '  -4.028'] [' CB  ', 10.813, '  -7.419', '  -5.210']\n",
      "[' N', 11.636, '  -5.700', '  -3.646'] [' CA  ', 14.847, '  -6.592', '  -6.111'] [' CB  ', 15.289, '  -5.302', '  -6.774']\n",
      "[' N', 13.537, '  -6.461', '  -5.483'] [' CA  ', 16.706, '  -5.955', '  -2.857'] [' CB  ', 16.192, '  -5.178', '  -1.661']\n",
      "[' N', 15.774, '  -5.909', '  -3.979'] [' CA  ', 15.415, '  -9.321', '  -1.654'] [' CB  ', 14.032, '  -9.895', '  -1.891']\n",
      "[' N', 17.426, '  -1.539', '   1.448'] [' CA  ', 16.95, ' -10.840', '  -4.780'] [' CB  ', 16.951, ' -10.235', '  -6.170']\n",
      "[' N', 15.535, '  -7.960', '  -2.160'] [' CA  ', 20.246, '  -9.268', '  -3.724'] [' CB  ', 20.485, '  -7.785', '  -3.488']\n",
      "[' N', 12.254, '  -8.357', '  -1.447'] [' CA  ', 19.848, ' -11.066', '  -0.399'] [' CB  ', 18.561, ' -11.249', '   0.380']\n",
      "[' N', 11.588, '  -8.624', '   0.571'] [' CA  ', 19.509, ' -14.295', '  -2.375'] [' CB  ', 18.565, ' -14.637', '  -3.427']\n",
      "[' N', 16.175, ' -10.041', '  -3.838'] [' CA  ', 22.832, ' -13.451', '  -4.011'] [' CB  ', 23.134, ' -12.187', '  -4.803']\n",
      "[' N', 18.859, '  -9.506', '  -4.110'] [' CA  ', 24.3, ' -13.178', '  -0.516'] [' CB  ', 23.881, ' -12.340', '   0.596']\n",
      "[' N', 19.657, ' -10.230', '  -1.579'] [' CA  ', 23.017, ' -16.698', '   0.119'] [' CB  ', 21.691, ' -17.273', '  -0.339']\n",
      "[' N', 19.546, ' -10.915', '   2.535'] [' CA  ', 24.942, ' -17.781', '  -2.974'] [' CB  ', 25.072, ' -17.011', '  -4.274']\n",
      "[' N', 18.887, ' -12.470', '   3.852'] [' CA  ', 28.041, ' -16.271', '  -1.376'] [' CB  ', 28.111, ' -14.977', '  -0.589']\n"
     ]
    },
    {
     "ename": "IndexError",
     "evalue": "list index out of range",
     "output_type": "error",
     "traceback": [
      "\u001b[0;31m---------------------------------------------------------------------------\u001b[0m",
      "\u001b[0;31mIndexError\u001b[0m                                Traceback (most recent call last)",
      "\u001b[0;32m/home/akhil/Documents/Python/PDB_work2.py\u001b[0m in \u001b[0;36m<module>\u001b[0;34m()\u001b[0m\n\u001b[1;32m     35\u001b[0m \u001b[0;34m\u001b[0m\u001b[0m\n\u001b[1;32m     36\u001b[0m \u001b[0;32mfor\u001b[0m \u001b[0mi\u001b[0m \u001b[0;32min\u001b[0m \u001b[0mrange\u001b[0m\u001b[0;34m(\u001b[0m\u001b[0mlen\u001b[0m\u001b[0;34m(\u001b[0m\u001b[0mN\u001b[0m\u001b[0;34m)\u001b[0m\u001b[0;34m)\u001b[0m\u001b[0;34m:\u001b[0m\u001b[0;34m\u001b[0m\u001b[0m\n\u001b[0;32m---> 37\u001b[0;31m     \u001b[0mprint\u001b[0m \u001b[0;34m(\u001b[0m\u001b[0mN\u001b[0m\u001b[0;34m[\u001b[0m\u001b[0mi\u001b[0m\u001b[0;34m]\u001b[0m\u001b[0;34m,\u001b[0m\u001b[0mCA\u001b[0m\u001b[0;34m[\u001b[0m\u001b[0mi\u001b[0m\u001b[0;34m]\u001b[0m\u001b[0;34m,\u001b[0m \u001b[0mCB\u001b[0m\u001b[0;34m[\u001b[0m\u001b[0mi\u001b[0m\u001b[0;34m]\u001b[0m\u001b[0;34m)\u001b[0m\u001b[0;34m\u001b[0m\u001b[0m\n\u001b[0m\u001b[1;32m     38\u001b[0m \u001b[0;34m\u001b[0m\u001b[0m\n\u001b[1;32m     39\u001b[0m \u001b[0;34m\u001b[0m\u001b[0m\n",
      "\u001b[0;31mIndexError\u001b[0m: list index out of range"
     ]
    }
   ],
   "source": [
    "%run PDB_work2.py 0003.pdb"
   ]
  },
  {
   "cell_type": "code",
   "execution_count": null,
   "metadata": {},
   "outputs": [],
   "source": []
  },
  {
   "cell_type": "code",
   "execution_count": null,
   "metadata": {},
   "outputs": [],
   "source": []
  }
 ],
 "metadata": {
  "kernelspec": {
   "display_name": "Python 3",
   "language": "python",
   "name": "python3"
  },
  "language_info": {
   "codemirror_mode": {
    "name": "ipython",
    "version": 3
   },
   "file_extension": ".py",
   "mimetype": "text/x-python",
   "name": "python",
   "nbconvert_exporter": "python",
   "pygments_lexer": "ipython3",
   "version": "3.6.5"
  }
 },
 "nbformat": 4,
 "nbformat_minor": 2
}
