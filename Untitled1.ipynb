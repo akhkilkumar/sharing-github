{
 "cells": [
  {
   "cell_type": "code",
   "execution_count": 2,
   "metadata": {},
   "outputs": [
    {
     "name": "stdout",
     "output_type": "stream",
     "text": [
      "usage: /usr/lib/python3/dist-packages/ipykernel_launcher.py <input_file>\n"
     ]
    },
    {
     "ename": "SystemExit",
     "evalue": "",
     "output_type": "error",
     "traceback": [
      "An exception has occurred, use %tb to see the full traceback.\n",
      "\u001b[0;31mSystemExit\u001b[0m\n"
     ]
    },
    {
     "name": "stderr",
     "output_type": "stream",
     "text": [
      "/usr/lib/python3/dist-packages/IPython/core/interactiveshell.py:2890: UserWarning: To exit: use 'exit', 'quit', or Ctrl-D.\n",
      "  warn(\"To exit: use 'exit', 'quit', or Ctrl-D.\", stacklevel=1)\n"
     ]
    }
   ],
   "source": [
    "import sys\n",
    "import copy\n",
    "import random\n",
    "import string\n",
    "\n",
    "\n",
    "#standard usage/error message:\n",
    "if len(sys.argv) != 2:\n",
    "    print (\"usage: \"+sys.argv[0]+\" <input_file>\")\n",
    "    sys.exit()\n",
    "\n",
    "#definitions:\n",
    "IP_file = sys.argv[1]\n",
    "print (IP_file)\n",
    "IP_data = open(IP_file, 'r')\n",
    "print (IP_data)\n",
    "\n",
    "#read a .txt file into python:\n",
    "IP_list = []\n",
    "for row in IP_data.readlines():\n",
    "    IP_list.append(row)\n",
    "a = []\n",
    "n = 0\n",
    "for i in range(len(IP_list)):\n",
    "    a.append([float(IP_list[i][30:38]), IP_list[i][38:46], IP_list[i][46:54]])\n",
    "#print (a)\n",
    "\"\"\"b=[]\n",
    "\"for i in a:\n",
    "    print(i)\"\"\"\n",
    "\n",
    "centroid = []\n",
    "for i in a:\n",
    "    c=0\n",
    "    for j in i:\n",
    "        j = float(j)\n",
    "        c = c+j\n",
    "        avg = c/3\n",
    "    centroid.append(avg)\n",
    "for i in range(len(a)):\n",
    "   print( a[i], centroid[i])\n",
    "      \n",
    "total_sum_x=0\n",
    "total_sum_y=0\n",
    "total_sum_z=0\n",
    "for i in range(len(a)):\n",
    "    x=float(a[i][0])\n",
    "    y=float(a[i][1])\n",
    "    z=float(a[i][2])\n",
    "    total_sum_x=total_sum_x+x\n",
    "    total_sum_y=total_sum_y+y\n",
    "    total_sum_z=total_sum_z+z\n",
    "print(total_sum_x,total_sum_y, total_sum_z)\n",
    "x_avg=0\n",
    "y_avg=0\n",
    "z_avg=0\n",
    "x_avg=float(total_sum_x/len(a))\n",
    "y_avg=float(total_sum_y/len(a))\n",
    "z_avg=float(total_sum_z/len(a))\n",
    "print(x_avg,y_avg,z_avg)\n",
    "\n"
   ]
  },
  {
   "cell_type": "code",
   "execution_count": null,
   "metadata": {},
   "outputs": [],
   "source": []
  }
 ],
 "metadata": {
  "kernelspec": {
   "display_name": "Python 3",
   "language": "python",
   "name": "python3"
  },
  "language_info": {
   "codemirror_mode": {
    "name": "ipython",
    "version": 3
   },
   "file_extension": ".py",
   "mimetype": "text/x-python",
   "name": "python",
   "nbconvert_exporter": "python",
   "pygments_lexer": "ipython3",
   "version": "3.6.5"
  }
 },
 "nbformat": 4,
 "nbformat_minor": 2
}
